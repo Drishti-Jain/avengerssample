{
  "nbformat": 4,
  "nbformat_minor": 0,
  "metadata": {
    "colab": {
      "name": "digit_predictor.ipynb",
      "provenance": [],
      "authorship_tag": "ABX9TyN2o3mqFkFtJvktJtirRih0",
      "include_colab_link": true
    },
    "kernelspec": {
      "name": "python3",
      "display_name": "Python 3"
    },
    "accelerator": "GPU"
  },
  "cells": [
    {
      "cell_type": "markdown",
      "metadata": {
        "id": "view-in-github",
        "colab_type": "text"
      },
      "source": [
        "<a href=\"https://colab.research.google.com/github/Drishti-Jain/avengerssample/blob/master/digit_predictor.ipynb\" target=\"_parent\"><img src=\"https://colab.research.google.com/assets/colab-badge.svg\" alt=\"Open In Colab\"/></a>"
      ]
    },
    {
      "cell_type": "code",
      "metadata": {
        "id": "FyGj-ddjUulK",
        "colab_type": "code",
        "colab": {}
      },
      "source": [
        "import keras\n",
        "from keras.datasets import mnist"
      ],
      "execution_count": 1,
      "outputs": []
    },
    {
      "cell_type": "code",
      "metadata": {
        "id": "9_K2t4o7U8ZB",
        "colab_type": "code",
        "colab": {
          "base_uri": "https://localhost:8080/",
          "height": 52
        },
        "outputId": "0383127e-5873-45a8-b5e9-b49f4c5e884d"
      },
      "source": [
        "data = mnist.load_data()"
      ],
      "execution_count": 2,
      "outputs": [
        {
          "output_type": "stream",
          "text": [
            "Downloading data from https://storage.googleapis.com/tensorflow/tf-keras-datasets/mnist.npz\n",
            "11493376/11490434 [==============================] - 1s 0us/step\n"
          ],
          "name": "stdout"
        }
      ]
    },
    {
      "cell_type": "code",
      "metadata": {
        "id": "z0qCYTF4U_ta",
        "colab_type": "code",
        "colab": {}
      },
      "source": [
        "(train_images, train_labels), (test_images, test_labels) = data"
      ],
      "execution_count": 3,
      "outputs": []
    },
    {
      "cell_type": "code",
      "metadata": {
        "id": "A840NqOaVDv2",
        "colab_type": "code",
        "colab": {
          "base_uri": "https://localhost:8080/",
          "height": 35
        },
        "outputId": "7bb21f4e-6fdd-4286-a5a7-9388d85cd2c7"
      },
      "source": [
        "len(train_images)\n",
        "len(train_labels)"
      ],
      "execution_count": 4,
      "outputs": [
        {
          "output_type": "execute_result",
          "data": {
            "text/plain": [
              "60000"
            ]
          },
          "metadata": {
            "tags": []
          },
          "execution_count": 4
        }
      ]
    },
    {
      "cell_type": "code",
      "metadata": {
        "id": "RS9xOnHjVJrT",
        "colab_type": "code",
        "colab": {}
      },
      "source": [
        "train_images = train_images.reshape((60000, 28, 28, 1))"
      ],
      "execution_count": 5,
      "outputs": []
    },
    {
      "cell_type": "code",
      "metadata": {
        "id": "qX7WXCKkVN55",
        "colab_type": "code",
        "colab": {}
      },
      "source": [
        "train_images = train_images.astype('float')/255"
      ],
      "execution_count": 6,
      "outputs": []
    },
    {
      "cell_type": "code",
      "metadata": {
        "id": "OclF9EcaVRYX",
        "colab_type": "code",
        "colab": {}
      },
      "source": [
        "test_images = test_images.reshape((10000, 28, 28, 1))"
      ],
      "execution_count": 7,
      "outputs": []
    },
    {
      "cell_type": "code",
      "metadata": {
        "id": "3YJLfmxgVVtP",
        "colab_type": "code",
        "colab": {}
      },
      "source": [
        "test_images = test_images.astype('float')/255"
      ],
      "execution_count": 8,
      "outputs": []
    },
    {
      "cell_type": "code",
      "metadata": {
        "id": "s_bo1DSXVZZU",
        "colab_type": "code",
        "colab": {
          "base_uri": "https://localhost:8080/",
          "height": 35
        },
        "outputId": "6b51beb0-d921-4854-d738-b332b14fcd1a"
      },
      "source": [
        "train_labels[1]"
      ],
      "execution_count": 9,
      "outputs": [
        {
          "output_type": "execute_result",
          "data": {
            "text/plain": [
              "0"
            ]
          },
          "metadata": {
            "tags": []
          },
          "execution_count": 9
        }
      ]
    },
    {
      "cell_type": "code",
      "metadata": {
        "id": "seLPO8isVmrr",
        "colab_type": "code",
        "colab": {
          "base_uri": "https://localhost:8080/",
          "height": 283
        },
        "outputId": "8a5e4082-92df-4ae9-a552-cae7b23ce186"
      },
      "source": [
        "from keras.preprocessing import image\n",
        "import matplotlib.pyplot as plt\n",
        "plt.imshow(image.array_to_img(train_images[1]), cmap=\"gray\")"
      ],
      "execution_count": 10,
      "outputs": [
        {
          "output_type": "execute_result",
          "data": {
            "text/plain": [
              "<matplotlib.image.AxesImage at 0x7f9a990b6d68>"
            ]
          },
          "metadata": {
            "tags": []
          },
          "execution_count": 10
        },
        {
          "output_type": "display_data",
          "data": {
            "image/png": "[encoded data removed]",
            "text/plain": [
              "<Figure size 432x288 with 1 Axes>"
            ]
          },
          "metadata": {
            "tags": [],
            "needs_background": "light"
          }
        }
      ]
    },
    {
      "cell_type": "code",
      "metadata": {
        "id": "etbFSx_PVw09",
        "colab_type": "code",
        "colab": {}
      },
      "source": [
        "#0 -> [1, 0, 0, 0, 0, 0 , 0 , 0]\n",
        "#1 -> [0, 1, 0, 0, 0, 0, 0, 0, 0]"
      ],
      "execution_count": 11,
      "outputs": []
    },
    {
      "cell_type": "code",
      "metadata": {
        "id": "v5_9HQ53V0VK",
        "colab_type": "code",
        "colab": {}
      },
      "source": [
        "from keras.utils import to_categorical\n",
        "train_labels_original = train_labels\n",
        "train_labels = to_categorical(train_labels)"
      ],
      "execution_count": 12,
      "outputs": []
    },
    {
      "cell_type": "code",
      "metadata": {
        "id": "p6av2l78V6ST",
        "colab_type": "code",
        "colab": {
          "base_uri": "https://localhost:8080/",
          "height": 35
        },
        "outputId": "39206f1f-a24a-4ce3-95e0-db21c7dc0098"
      },
      "source": [
        "train_labels[0]"
      ],
      "execution_count": 13,
      "outputs": [
        {
          "output_type": "execute_result",
          "data": {
            "text/plain": [
              "array([0., 0., 0., 0., 0., 1., 0., 0., 0., 0.], dtype=float32)"
            ]
          },
          "metadata": {
            "tags": []
          },
          "execution_count": 13
        }
      ]
    },
    {
      "cell_type": "code",
      "metadata": {
        "id": "eL61pJN8V9i-",
        "colab_type": "code",
        "colab": {}
      },
      "source": [
        "test_labels_original = test_labels\n",
        "test_labels = to_categorical(test_labels)"
      ],
      "execution_count": 14,
      "outputs": []
    },
    {
      "cell_type": "code",
      "metadata": {
        "id": "YwNgXmRzWBRL",
        "colab_type": "code",
        "colab": {
          "base_uri": "https://localhost:8080/",
          "height": 191
        },
        "outputId": "9e24306b-3499-44c9-b270-71a4a0dc35d0"
      },
      "source": [
        "from keras import layers, models\n",
        "model = models.Sequential()\n",
        "model.add(layers.Conv2D(32, (3, 3), activation='relu', input_shape=(28, 28, 1)))\n",
        "model.summary()"
      ],
      "execution_count": 15,
      "outputs": [
        {
          "output_type": "stream",
          "text": [
            "Model: \"sequential\"\n",
            "_________________________________________________________________\n",
            "Layer (type)                 Output Shape              Param #   \n",
            "=================================================================\n",
            "conv2d (Conv2D)              (None, 26, 26, 32)        320       \n",
            "=================================================================\n",
            "Total params: 320\n",
            "Trainable params: 320\n",
            "Non-trainable params: 0\n",
            "_________________________________________________________________\n"
          ],
          "name": "stdout"
        }
      ]
    },
    {
      "cell_type": "code",
      "metadata": {
        "id": "YGmdeGKJWPBO",
        "colab_type": "code",
        "colab": {
          "base_uri": "https://localhost:8080/",
          "height": 225
        },
        "outputId": "0d63a976-cb04-4621-968c-00db4494a642"
      },
      "source": [
        "model.add(layers.MaxPooling2D((2,2)))\n",
        "model.summary()"
      ],
      "execution_count": 16,
      "outputs": [
        {
          "output_type": "stream",
          "text": [
            "Model: \"sequential\"\n",
            "_________________________________________________________________\n",
            "Layer (type)                 Output Shape              Param #   \n",
            "=================================================================\n",
            "conv2d (Conv2D)              (None, 26, 26, 32)        320       \n",
            "_________________________________________________________________\n",
            "max_pooling2d (MaxPooling2D) (None, 13, 13, 32)        0         \n",
            "=================================================================\n",
            "Total params: 320\n",
            "Trainable params: 320\n",
            "Non-trainable params: 0\n",
            "_________________________________________________________________\n"
          ],
          "name": "stdout"
        }
      ]
    },
    {
      "cell_type": "code",
      "metadata": {
        "id": "w4WHJvAlWWCr",
        "colab_type": "code",
        "colab": {
          "base_uri": "https://localhost:8080/",
          "height": 260
        },
        "outputId": "79819e20-d899-424d-a3c3-b611f35a9d15"
      },
      "source": [
        "model.add(layers.Conv2D(64, (3, 3), activation='relu'))\n",
        "model.summary()"
      ],
      "execution_count": 17,
      "outputs": [
        {
          "output_type": "stream",
          "text": [
            "Model: \"sequential\"\n",
            "_________________________________________________________________\n",
            "Layer (type)                 Output Shape              Param #   \n",
            "=================================================================\n",
            "conv2d (Conv2D)              (None, 26, 26, 32)        320       \n",
            "_________________________________________________________________\n",
            "max_pooling2d (MaxPooling2D) (None, 13, 13, 32)        0         \n",
            "_________________________________________________________________\n",
            "conv2d_1 (Conv2D)            (None, 11, 11, 64)        18496     \n",
            "=================================================================\n",
            "Total params: 18,816\n",
            "Trainable params: 18,816\n",
            "Non-trainable params: 0\n",
            "_________________________________________________________________\n"
          ],
          "name": "stdout"
        }
      ]
    },
    {
      "cell_type": "code",
      "metadata": {
        "id": "-P3_nMhSWbAk",
        "colab_type": "code",
        "colab": {
          "base_uri": "https://localhost:8080/",
          "height": 295
        },
        "outputId": "8fbf3a04-e7f5-4710-cdca-0a729873989f"
      },
      "source": [
        "model.add(layers.MaxPooling2D((2, 2)))\n",
        "model.summary()"
      ],
      "execution_count": 18,
      "outputs": [
        {
          "output_type": "stream",
          "text": [
            "Model: \"sequential\"\n",
            "_________________________________________________________________\n",
            "Layer (type)                 Output Shape              Param #   \n",
            "=================================================================\n",
            "conv2d (Conv2D)              (None, 26, 26, 32)        320       \n",
            "_________________________________________________________________\n",
            "max_pooling2d (MaxPooling2D) (None, 13, 13, 32)        0         \n",
            "_________________________________________________________________\n",
            "conv2d_1 (Conv2D)            (None, 11, 11, 64)        18496     \n",
            "_________________________________________________________________\n",
            "max_pooling2d_1 (MaxPooling2 (None, 5, 5, 64)          0         \n",
            "=================================================================\n",
            "Total params: 18,816\n",
            "Trainable params: 18,816\n",
            "Non-trainable params: 0\n",
            "_________________________________________________________________\n"
          ],
          "name": "stdout"
        }
      ]
    },
    {
      "cell_type": "code",
      "metadata": {
        "id": "3szZDDOIWgpG",
        "colab_type": "code",
        "colab": {
          "base_uri": "https://localhost:8080/",
          "height": 364
        },
        "outputId": "59967275-aa1f-497d-c94f-9d7643a4afa1"
      },
      "source": [
        "model.add(layers.Conv2D(64, (3, 3), activation='relu'))\n",
        "model.add(layers.Flatten())\n",
        "model.summary()"
      ],
      "execution_count": 19,
      "outputs": [
        {
          "output_type": "stream",
          "text": [
            "Model: \"sequential\"\n",
            "_________________________________________________________________\n",
            "Layer (type)                 Output Shape              Param #   \n",
            "=================================================================\n",
            "conv2d (Conv2D)              (None, 26, 26, 32)        320       \n",
            "_________________________________________________________________\n",
            "max_pooling2d (MaxPooling2D) (None, 13, 13, 32)        0         \n",
            "_________________________________________________________________\n",
            "conv2d_1 (Conv2D)            (None, 11, 11, 64)        18496     \n",
            "_________________________________________________________________\n",
            "max_pooling2d_1 (MaxPooling2 (None, 5, 5, 64)          0         \n",
            "_________________________________________________________________\n",
            "conv2d_2 (Conv2D)            (None, 3, 3, 64)          36928     \n",
            "_________________________________________________________________\n",
            "flatten (Flatten)            (None, 576)               0         \n",
            "=================================================================\n",
            "Total params: 55,744\n",
            "Trainable params: 55,744\n",
            "Non-trainable params: 0\n",
            "_________________________________________________________________\n"
          ],
          "name": "stdout"
        }
      ]
    },
    {
      "cell_type": "code",
      "metadata": {
        "id": "BAp7FVDvWpG9",
        "colab_type": "code",
        "colab": {
          "base_uri": "https://localhost:8080/",
          "height": 399
        },
        "outputId": "19bfe875-8825-412b-b9b2-62f975b76978"
      },
      "source": [
        "model.add(layers.Dense(64, activation='relu'))\n",
        "model.summary()"
      ],
      "execution_count": 20,
      "outputs": [
        {
          "output_type": "stream",
          "text": [
            "Model: \"sequential\"\n",
            "_________________________________________________________________\n",
            "Layer (type)                 Output Shape              Param #   \n",
            "=================================================================\n",
            "conv2d (Conv2D)              (None, 26, 26, 32)        320       \n",
            "_________________________________________________________________\n",
            "max_pooling2d (MaxPooling2D) (None, 13, 13, 32)        0         \n",
            "_________________________________________________________________\n",
            "conv2d_1 (Conv2D)            (None, 11, 11, 64)        18496     \n",
            "_________________________________________________________________\n",
            "max_pooling2d_1 (MaxPooling2 (None, 5, 5, 64)          0         \n",
            "_________________________________________________________________\n",
            "conv2d_2 (Conv2D)            (None, 3, 3, 64)          36928     \n",
            "_________________________________________________________________\n",
            "flatten (Flatten)            (None, 576)               0         \n",
            "_________________________________________________________________\n",
            "dense (Dense)                (None, 64)                36928     \n",
            "=================================================================\n",
            "Total params: 92,672\n",
            "Trainable params: 92,672\n",
            "Non-trainable params: 0\n",
            "_________________________________________________________________\n"
          ],
          "name": "stdout"
        }
      ]
    },
    {
      "cell_type": "code",
      "metadata": {
        "id": "uSI19Yx-WvBU",
        "colab_type": "code",
        "colab": {
          "base_uri": "https://localhost:8080/",
          "height": 433
        },
        "outputId": "2728b888-540f-44f3-905a-89139fb77231"
      },
      "source": [
        "model.add(layers.Dense(10, activation='softmax'))\n",
        "model.summary()"
      ],
      "execution_count": 21,
      "outputs": [
        {
          "output_type": "stream",
          "text": [
            "Model: \"sequential\"\n",
            "_________________________________________________________________\n",
            "Layer (type)                 Output Shape              Param #   \n",
            "=================================================================\n",
            "conv2d (Conv2D)              (None, 26, 26, 32)        320       \n",
            "_________________________________________________________________\n",
            "max_pooling2d (MaxPooling2D) (None, 13, 13, 32)        0         \n",
            "_________________________________________________________________\n",
            "conv2d_1 (Conv2D)            (None, 11, 11, 64)        18496     \n",
            "_________________________________________________________________\n",
            "max_pooling2d_1 (MaxPooling2 (None, 5, 5, 64)          0         \n",
            "_________________________________________________________________\n",
            "conv2d_2 (Conv2D)            (None, 3, 3, 64)          36928     \n",
            "_________________________________________________________________\n",
            "flatten (Flatten)            (None, 576)               0         \n",
            "_________________________________________________________________\n",
            "dense (Dense)                (None, 64)                36928     \n",
            "_________________________________________________________________\n",
            "dense_1 (Dense)              (None, 10)                650       \n",
            "=================================================================\n",
            "Total params: 93,322\n",
            "Trainable params: 93,322\n",
            "Non-trainable params: 0\n",
            "_________________________________________________________________\n"
          ],
          "name": "stdout"
        }
      ]
    },
    {
      "cell_type": "code",
      "metadata": {
        "id": "o6APQ2GfW0QK",
        "colab_type": "code",
        "colab": {}
      },
      "source": [
        "model.compile(loss='categorical_crossentropy', optimizer='rmsprop', metrics=['accuracy'])"
      ],
      "execution_count": 23,
      "outputs": []
    },
    {
      "cell_type": "code",
      "metadata": {
        "id": "HmSEX4yLW5Qx",
        "colab_type": "code",
        "colab": {
          "base_uri": "https://localhost:8080/",
          "height": 1000
        },
        "outputId": "6a35c528-ba42-45c7-9d41-45755840db0e"
      },
      "source": [
        "model.fit(train_images, train_labels, epochs=100, batch_size=64)"
      ],
      "execution_count": 24,
      "outputs": [
        {
          "output_type": "stream",
          "text": [
            "Epoch 1/100\n",
            "938/938 [==============================] - 8s 8ms/step - loss: 0.1757 - accuracy: 0.9452\n",
            "Epoch 2/100\n",
            "938/938 [==============================] - 7s 7ms/step - loss: 0.0480 - accuracy: 0.9848\n",
            "Epoch 3/100\n",
            "938/938 [==============================] - 7s 7ms/step - loss: 0.0322 - accuracy: 0.9898\n",
            "Epoch 4/100\n",
            "938/938 [==============================] - 7s 7ms/step - loss: 0.0254 - accuracy: 0.9919\n",
            "Epoch 5/100\n",
            "938/938 [==============================] - 7s 7ms/step - loss: 0.0197 - accuracy: 0.9937\n",
            "Epoch 6/100\n",
            "938/938 [==============================] - 7s 7ms/step - loss: 0.0153 - accuracy: 0.9955\n",
            "Epoch 7/100\n",
            "938/938 [==============================] - 7s 8ms/step - loss: 0.0133 - accuracy: 0.9959\n",
            "Epoch 8/100\n",
            "938/938 [==============================] - 7s 7ms/step - loss: 0.0103 - accuracy: 0.9968\n",
            "Epoch 9/100\n",
            "938/938 [==============================] - 7s 7ms/step - loss: 0.0093 - accuracy: 0.9973\n",
            "Epoch 10/100\n",
            "938/938 [==============================] - 7s 7ms/step - loss: 0.0075 - accuracy: 0.9979\n",
            "Epoch 11/100\n",
            "938/938 [==============================] - 7s 7ms/step - loss: 0.0069 - accuracy: 0.9982\n",
            "Epoch 12/100\n",
            "938/938 [==============================] - 7s 8ms/step - loss: 0.0064 - accuracy: 0.9981\n",
            "Epoch 13/100\n",
            "938/938 [==============================] - 7s 7ms/step - loss: 0.0051 - accuracy: 0.9985\n",
            "Epoch 14/100\n",
            "938/938 [==============================] - 7s 7ms/step - loss: 0.0049 - accuracy: 0.9985\n",
            "Epoch 15/100\n",
            "938/938 [==============================] - 7s 7ms/step - loss: 0.0048 - accuracy: 0.9985\n",
            "Epoch 16/100\n",
            "938/938 [==============================] - 7s 7ms/step - loss: 0.0046 - accuracy: 0.9986\n",
            "Epoch 17/100\n",
            "938/938 [==============================] - 7s 7ms/step - loss: 0.0039 - accuracy: 0.9988\n",
            "Epoch 18/100\n",
            "938/938 [==============================] - 7s 7ms/step - loss: 0.0043 - accuracy: 0.9989\n",
            "Epoch 19/100\n",
            "938/938 [==============================] - 7s 8ms/step - loss: 0.0031 - accuracy: 0.9992\n",
            "Epoch 20/100\n",
            "938/938 [==============================] - 8s 8ms/step - loss: 0.0040 - accuracy: 0.9990\n",
            "Epoch 21/100\n",
            "938/938 [==============================] - 7s 8ms/step - loss: 0.0032 - accuracy: 0.9991\n",
            "Epoch 22/100\n",
            "938/938 [==============================] - 7s 8ms/step - loss: 0.0032 - accuracy: 0.9991\n",
            "Epoch 23/100\n",
            "938/938 [==============================] - 7s 8ms/step - loss: 0.0025 - accuracy: 0.9992\n",
            "Epoch 24/100\n",
            "938/938 [==============================] - 7s 8ms/step - loss: 0.0030 - accuracy: 0.9992\n",
            "Epoch 25/100\n",
            "938/938 [==============================] - 7s 8ms/step - loss: 0.0029 - accuracy: 0.9992\n",
            "Epoch 26/100\n",
            "938/938 [==============================] - 7s 8ms/step - loss: 0.0027 - accuracy: 0.9994\n",
            "Epoch 27/100\n",
            "938/938 [==============================] - 7s 8ms/step - loss: 0.0025 - accuracy: 0.9993\n",
            "Epoch 28/100\n",
            "938/938 [==============================] - 7s 8ms/step - loss: 0.0036 - accuracy: 0.9991\n",
            "Epoch 29/100\n",
            "938/938 [==============================] - 7s 8ms/step - loss: 0.0025 - accuracy: 0.9995\n",
            "Epoch 30/100\n",
            "938/938 [==============================] - 7s 8ms/step - loss: 0.0029 - accuracy: 0.9993\n",
            "Epoch 31/100\n",
            "938/938 [==============================] - 7s 8ms/step - loss: 0.0024 - accuracy: 0.9995\n",
            "Epoch 32/100\n",
            "938/938 [==============================] - 7s 8ms/step - loss: 0.0037 - accuracy: 0.9992\n",
            "Epoch 33/100\n",
            "938/938 [==============================] - 7s 8ms/step - loss: 0.0014 - accuracy: 0.9995\n",
            "Epoch 34/100\n",
            "938/938 [==============================] - 7s 8ms/step - loss: 0.0024 - accuracy: 0.9995\n",
            "Epoch 35/100\n",
            "938/938 [==============================] - 7s 8ms/step - loss: 0.0012 - accuracy: 0.9996\n",
            "Epoch 36/100\n",
            "938/938 [==============================] - 7s 8ms/step - loss: 0.0015 - accuracy: 0.9996\n",
            "Epoch 37/100\n",
            "938/938 [==============================] - 7s 8ms/step - loss: 0.0032 - accuracy: 0.9994\n",
            "Epoch 38/100\n",
            "938/938 [==============================] - 7s 8ms/step - loss: 0.0018 - accuracy: 0.9996\n",
            "Epoch 39/100\n",
            "938/938 [==============================] - 7s 8ms/step - loss: 0.0012 - accuracy: 0.9996\n",
            "Epoch 40/100\n",
            "938/938 [==============================] - 7s 8ms/step - loss: 0.0021 - accuracy: 0.9996\n",
            "Epoch 41/100\n",
            "938/938 [==============================] - 7s 8ms/step - loss: 0.0019 - accuracy: 0.9996\n",
            "Epoch 42/100\n",
            "938/938 [==============================] - 8s 8ms/step - loss: 8.6435e-04 - accuracy: 0.9998\n",
            "Epoch 43/100\n",
            "938/938 [==============================] - 7s 8ms/step - loss: 0.0014 - accuracy: 0.9997\n",
            "Epoch 44/100\n",
            "938/938 [==============================] - 7s 8ms/step - loss: 0.0010 - accuracy: 0.9998\n",
            "Epoch 45/100\n",
            "938/938 [==============================] - 7s 8ms/step - loss: 0.0014 - accuracy: 0.9998\n",
            "Epoch 46/100\n",
            "938/938 [==============================] - 7s 8ms/step - loss: 0.0016 - accuracy: 0.9997\n",
            "Epoch 47/100\n",
            "938/938 [==============================] - 7s 8ms/step - loss: 0.0014 - accuracy: 0.9998\n",
            "Epoch 48/100\n",
            "938/938 [==============================] - 7s 8ms/step - loss: 0.0012 - accuracy: 0.9998\n",
            "Epoch 49/100\n",
            "938/938 [==============================] - 7s 8ms/step - loss: 0.0020 - accuracy: 0.9997\n",
            "Epoch 50/100\n",
            "938/938 [==============================] - 7s 8ms/step - loss: 0.0012 - accuracy: 0.9998\n",
            "Epoch 51/100\n",
            "938/938 [==============================] - 7s 8ms/step - loss: 0.0017 - accuracy: 0.9996\n",
            "Epoch 52/100\n",
            "938/938 [==============================] - 7s 8ms/step - loss: 0.0023 - accuracy: 0.9997\n",
            "Epoch 53/100\n",
            "938/938 [==============================] - 7s 8ms/step - loss: 0.0022 - accuracy: 0.9996\n",
            "Epoch 54/100\n",
            "938/938 [==============================] - 7s 8ms/step - loss: 0.0022 - accuracy: 0.9997\n",
            "Epoch 55/100\n",
            "938/938 [==============================] - 7s 8ms/step - loss: 0.0015 - accuracy: 0.9997\n",
            "Epoch 56/100\n",
            "938/938 [==============================] - 7s 8ms/step - loss: 0.0018 - accuracy: 0.9998\n",
            "Epoch 57/100\n",
            "938/938 [==============================] - 7s 8ms/step - loss: 0.0012 - accuracy: 0.9998\n",
            "Epoch 58/100\n",
            "938/938 [==============================] - 7s 8ms/step - loss: 0.0015 - accuracy: 0.9997\n",
            "Epoch 59/100\n",
            "938/938 [==============================] - 7s 8ms/step - loss: 0.0017 - accuracy: 0.9997\n",
            "Epoch 60/100\n",
            "938/938 [==============================] - 7s 8ms/step - loss: 0.0014 - accuracy: 0.9997\n",
            "Epoch 61/100\n",
            "938/938 [==============================] - 7s 8ms/step - loss: 0.0014 - accuracy: 0.9998\n",
            "Epoch 62/100\n",
            "938/938 [==============================] - 8s 8ms/step - loss: 0.0012 - accuracy: 0.9998\n",
            "Epoch 63/100\n",
            "938/938 [==============================] - 7s 8ms/step - loss: 7.8756e-04 - accuracy: 0.9999\n",
            "Epoch 64/100\n",
            "938/938 [==============================] - 7s 8ms/step - loss: 0.0025 - accuracy: 0.9997\n",
            "Epoch 65/100\n",
            "938/938 [==============================] - 7s 8ms/step - loss: 0.0035 - accuracy: 0.9995\n",
            "Epoch 66/100\n",
            "938/938 [==============================] - 7s 8ms/step - loss: 0.0010 - accuracy: 0.9998\n",
            "Epoch 67/100\n",
            "938/938 [==============================] - 7s 8ms/step - loss: 0.0014 - accuracy: 0.9998\n",
            "Epoch 68/100\n",
            "938/938 [==============================] - 7s 8ms/step - loss: 8.7000e-04 - accuracy: 0.9998\n",
            "Epoch 69/100\n",
            "938/938 [==============================] - 7s 8ms/step - loss: 0.0014 - accuracy: 0.9998\n",
            "Epoch 70/100\n",
            "938/938 [==============================] - 7s 8ms/step - loss: 0.0014 - accuracy: 0.9997\n",
            "Epoch 71/100\n",
            "938/938 [==============================] - 7s 8ms/step - loss: 0.0017 - accuracy: 0.9998\n",
            "Epoch 72/100\n",
            "938/938 [==============================] - 7s 8ms/step - loss: 4.9716e-04 - accuracy: 0.9999\n",
            "Epoch 73/100\n",
            "938/938 [==============================] - 7s 8ms/step - loss: 7.4436e-04 - accuracy: 0.9998\n",
            "Epoch 74/100\n",
            "938/938 [==============================] - 7s 8ms/step - loss: 0.0014 - accuracy: 0.9998\n",
            "Epoch 75/100\n",
            "938/938 [==============================] - 7s 8ms/step - loss: 0.0021 - accuracy: 0.9997\n",
            "Epoch 76/100\n",
            "938/938 [==============================] - 7s 8ms/step - loss: 0.0011 - accuracy: 0.9998\n",
            "Epoch 77/100\n",
            "938/938 [==============================] - 7s 8ms/step - loss: 0.0013 - accuracy: 0.9998\n",
            "Epoch 78/100\n",
            "938/938 [==============================] - 7s 8ms/step - loss: 7.8712e-04 - accuracy: 0.9998\n",
            "Epoch 79/100\n",
            "938/938 [==============================] - 7s 8ms/step - loss: 0.0015 - accuracy: 0.9998\n",
            "Epoch 80/100\n",
            "938/938 [==============================] - 7s 8ms/step - loss: 3.8727e-04 - accuracy: 0.9999\n",
            "Epoch 81/100\n",
            "938/938 [==============================] - 7s 8ms/step - loss: 7.2706e-04 - accuracy: 0.9999\n",
            "Epoch 82/100\n",
            "938/938 [==============================] - 7s 8ms/step - loss: 1.5269e-04 - accuracy: 0.9999\n",
            "Epoch 83/100\n",
            "938/938 [==============================] - 7s 8ms/step - loss: 2.0654e-04 - accuracy: 1.0000\n",
            "Epoch 84/100\n",
            "938/938 [==============================] - 7s 8ms/step - loss: 7.1151e-04 - accuracy: 0.9999\n",
            "Epoch 85/100\n",
            "938/938 [==============================] - 7s 8ms/step - loss: 5.9987e-04 - accuracy: 0.9999\n",
            "Epoch 86/100\n",
            "938/938 [==============================] - 7s 8ms/step - loss: 0.0021 - accuracy: 0.9998\n",
            "Epoch 87/100\n",
            "938/938 [==============================] - 7s 8ms/step - loss: 0.0011 - accuracy: 0.9998\n",
            "Epoch 88/100\n",
            "938/938 [==============================] - 7s 8ms/step - loss: 0.0018 - accuracy: 0.9998\n",
            "Epoch 89/100\n",
            "938/938 [==============================] - 7s 8ms/step - loss: 4.5459e-04 - accuracy: 0.9999\n",
            "Epoch 90/100\n",
            "938/938 [==============================] - 7s 8ms/step - loss: 4.7901e-04 - accuracy: 0.9999\n",
            "Epoch 91/100\n",
            "938/938 [==============================] - 7s 8ms/step - loss: 6.8314e-04 - accuracy: 0.9999\n",
            "Epoch 92/100\n",
            "938/938 [==============================] - 7s 8ms/step - loss: 5.0952e-04 - accuracy: 0.9999\n",
            "Epoch 93/100\n",
            "938/938 [==============================] - 7s 8ms/step - loss: 3.5656e-04 - accuracy: 0.9999\n",
            "Epoch 94/100\n",
            "938/938 [==============================] - 7s 8ms/step - loss: 0.0016 - accuracy: 0.9998\n",
            "Epoch 95/100\n",
            "938/938 [==============================] - 7s 8ms/step - loss: 0.0016 - accuracy: 0.9999\n",
            "Epoch 96/100\n",
            "938/938 [==============================] - 7s 8ms/step - loss: 9.2733e-04 - accuracy: 0.9999\n",
            "Epoch 97/100\n",
            "938/938 [==============================] - 7s 8ms/step - loss: 0.0018 - accuracy: 0.9998\n",
            "Epoch 98/100\n",
            "938/938 [==============================] - 7s 8ms/step - loss: 6.2238e-04 - accuracy: 0.9999\n",
            "Epoch 99/100\n",
            "938/938 [==============================] - 7s 8ms/step - loss: 0.0011 - accuracy: 0.9998\n",
            "Epoch 100/100\n",
            "938/938 [==============================] - 7s 8ms/step - loss: 0.0017 - accuracy: 0.9998\n"
          ],
          "name": "stdout"
        },
        {
          "output_type": "execute_result",
          "data": {
            "text/plain": [
              "<tensorflow.python.keras.callbacks.History at 0x7f9a90177e80>"
            ]
          },
          "metadata": {
            "tags": []
          },
          "execution_count": 24
        }
      ]
    },
    {
      "cell_type": "code",
      "metadata": {
        "id": "ouTQofhXZ0bv",
        "colab_type": "code",
        "colab": {
          "base_uri": "https://localhost:8080/",
          "height": 35
        },
        "outputId": "bb7cc4bf-5a90-4170-c998-71e32895aba5"
      },
      "source": [
        "test_loss, test_accuracy = model.evaluate(test_images, test_labels)"
      ],
      "execution_count": 25,
      "outputs": [
        {
          "output_type": "stream",
          "text": [
            "313/313 [==============================] - 1s 4ms/step - loss: 0.2446 - accuracy: 0.9918\n"
          ],
          "name": "stdout"
        }
      ]
    },
    {
      "cell_type": "code",
      "metadata": {
        "id": "jyepABOpaFTX",
        "colab_type": "code",
        "colab": {
          "base_uri": "https://localhost:8080/",
          "height": 35
        },
        "outputId": "f51b2578-c407-40f0-b05e-67f1e7226da2"
      },
      "source": [
        "test_loss"
      ],
      "execution_count": 26,
      "outputs": [
        {
          "output_type": "execute_result",
          "data": {
            "text/plain": [
              "0.24462851881980896"
            ]
          },
          "metadata": {
            "tags": []
          },
          "execution_count": 26
        }
      ]
    },
    {
      "cell_type": "code",
      "metadata": {
        "id": "C8hwu0LaaG-C",
        "colab_type": "code",
        "colab": {
          "base_uri": "https://localhost:8080/",
          "height": 35
        },
        "outputId": "4b0d2ee5-e03b-48b0-b130-28194edc851f"
      },
      "source": [
        "test_accuracy"
      ],
      "execution_count": 27,
      "outputs": [
        {
          "output_type": "execute_result",
          "data": {
            "text/plain": [
              "0.9918000102043152"
            ]
          },
          "metadata": {
            "tags": []
          },
          "execution_count": 27
        }
      ]
    },
    {
      "cell_type": "code",
      "metadata": {
        "id": "GVHmGQK2aKtp",
        "colab_type": "code",
        "colab": {
          "base_uri": "https://localhost:8080/",
          "height": 283
        },
        "outputId": "23713b0e-7491-4fea-b83c-95745432672e"
      },
      "source": [
        "predictions = model.predict(test_images)\n",
        "#import numpy as np\n",
        "#predicted_classes = np.argmax(predictions, axis = 1)\n",
        "plt.imshow(image.array_to_img(test_images[0]), cmap=\"gray\")"
      ],
      "execution_count": 28,
      "outputs": [
        {
          "output_type": "execute_result",
          "data": {
            "text/plain": [
              "<matplotlib.image.AxesImage at 0x7f9a3e78c160>"
            ]
          },
          "metadata": {
            "tags": []
          },
          "execution_count": 28
        },
        {
          "output_type": "display_data",
          "data": {
            "image/png": "[encoded data removed]",
            "text/plain": [
              "<Figure size 432x288 with 1 Axes>"
            ]
          },
          "metadata": {
            "tags": [],
            "needs_background": "light"
          }
        }
      ]
    },
    {
      "cell_type": "code",
      "metadata": {
        "id": "4iDE0-99aSaO",
        "colab_type": "code",
        "colab": {
          "base_uri": "https://localhost:8080/",
          "height": 35
        },
        "outputId": "3d17f850-f538-4087-81f7-d9889993e0ac"
      },
      "source": [
        "test_labels_original[0]"
      ],
      "execution_count": 29,
      "outputs": [
        {
          "output_type": "execute_result",
          "data": {
            "text/plain": [
              "7"
            ]
          },
          "metadata": {
            "tags": []
          },
          "execution_count": 29
        }
      ]
    },
    {
      "cell_type": "code",
      "metadata": {
        "id": "OyUhAdgCaWnM",
        "colab_type": "code",
        "colab": {
          "base_uri": "https://localhost:8080/",
          "height": 35
        },
        "outputId": "6721babe-6f00-4ed7-89da-fd9e0ac5252b"
      },
      "source": [
        "predictions[0]"
      ],
      "execution_count": 30,
      "outputs": [
        {
          "output_type": "execute_result",
          "data": {
            "text/plain": [
              "array([0., 0., 0., 0., 0., 0., 0., 1., 0., 0.], dtype=float32)"
            ]
          },
          "metadata": {
            "tags": []
          },
          "execution_count": 30
        }
      ]
    },
    {
      "cell_type": "code",
      "metadata": {
        "id": "p08KvXhwafAg",
        "colab_type": "code",
        "colab": {
          "base_uri": "https://localhost:8080/",
          "height": 35
        },
        "outputId": "8d66fd35-99ae-49b5-efae-a01948a8f695"
      },
      "source": [
        "test_images[0].shape"
      ],
      "execution_count": 33,
      "outputs": [
        {
          "output_type": "execute_result",
          "data": {
            "text/plain": [
              "(28, 28, 1)"
            ]
          },
          "metadata": {
            "tags": []
          },
          "execution_count": 33
        }
      ]
    },
    {
      "cell_type": "code",
      "metadata": {
        "id": "AkAohscCarvm",
        "colab_type": "code",
        "colab": {
          "base_uri": "https://localhost:8080/",
          "height": 35
        },
        "outputId": "8a7e8037-0fad-4084-973d-d1d2df885c66"
      },
      "source": [
        "test_images.shape"
      ],
      "execution_count": 35,
      "outputs": [
        {
          "output_type": "execute_result",
          "data": {
            "text/plain": [
              "(10000, 28, 28, 1)"
            ]
          },
          "metadata": {
            "tags": []
          },
          "execution_count": 35
        }
      ]
    },
    {
      "cell_type": "code",
      "metadata": {
        "id": "w9b9L3BLaxWD",
        "colab_type": "code",
        "colab": {
          "base_uri": "https://localhost:8080/",
          "height": 131
        },
        "outputId": "d544b7b4-c58e-4a7b-ed7f-17284a13470c"
      },
      "source": [
        "img = image.load_img(path=\"\"C:\\Users\\ASUS\\Downloads\\IMG_20200910_183420.jpg\"\",grayscale=True,target_size=(28,28,1))\n",
        "\n",
        "img = image.img_to_array(img)\n",
        "plt.imshow(image.array_to_img(img), cmap=\"gray\")\n",
        "img = img.astype('float')/255\n",
        "test_img = img.reshape((1,28,28,1))\n",
        "img_class = model.predict_classes(test_img)\n",
        "prediction = img_class[0]\n",
        "prediction"
      ],
      "execution_count": 44,
      "outputs": [
        {
          "output_type": "error",
          "ename": "SyntaxError",
          "evalue": "ignored",
          "traceback": [
            "\u001b[0;36m  File \u001b[0;32m\"<ipython-input-44-9cdddb4af910>\"\u001b[0;36m, line \u001b[0;32m1\u001b[0m\n\u001b[0;31m    img = image.load_img(path=\"\"C:\\Users\\ASUS\\Downloads\\IMG_20200910_183420.jpg\"\",grayscale=True,target_size=(28,28,1))\u001b[0m\n\u001b[0m                                ^\u001b[0m\n\u001b[0;31mSyntaxError\u001b[0m\u001b[0;31m:\u001b[0m invalid syntax\n"
          ]
        }
      ]
    }
  ]
}